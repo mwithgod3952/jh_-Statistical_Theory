{
  "nbformat": 4,
  "nbformat_minor": 0,
  "metadata": {
    "colab": {
      "name": "Major difference between histogram, countplot and distplot",
      "provenance": [],
      "collapsed_sections": [],
      "toc_visible": true,
      "authorship_tag": "ABX9TyO1yoVfH/pqUX0bCILErCZS",
      "include_colab_link": true
    },
    "kernelspec": {
      "name": "python3",
      "display_name": "Python 3"
    },
    "language_info": {
      "name": "python"
    }
  },
  "cells": [
    {
      "cell_type": "markdown",
      "metadata": {
        "id": "view-in-github",
        "colab_type": "text"
      },
      "source": [
        "<a href=\"https://colab.research.google.com/github/mwithgod3952/jh_-Statistical_Theory/blob/master/Major_difference_between_histogram%2C_countplot_and_distplot.ipynb\" target=\"_parent\"><img src=\"https://colab.research.google.com/assets/colab-badge.svg\" alt=\"Open In Colab\"/></a>"
      ]
    },
    {
      "cell_type": "markdown",
      "metadata": {
        "id": "uyKfFn8O5hYa"
      },
      "source": [
        "##### ***Study _ 변수(Variable) 성질에 따른 시각화 방안 적합도***"
      ]
    },
    {
      "cell_type": "code",
      "metadata": {
        "id": "QZkmQbA45g4L"
      },
      "source": [
        "import numpy as np\n",
        "import matplotlib.pyplot as plt\n",
        "import seaborn as sns\n",
        "import warnings\n",
        "warnings.filterwarnings(\"ignore\")"
      ],
      "execution_count": 41,
      "outputs": []
    },
    {
      "cell_type": "markdown",
      "metadata": {
        "id": "rR_c1H8Bqgtm"
      },
      "source": [
        "##### ***Continous variable***"
      ]
    },
    {
      "cell_type": "markdown",
      "metadata": {
        "id": "Ix5trRBDjkEz"
      },
      "source": [
        "    - 연속형 확률변수의 경우 Histogram은 각 값들이 얼마나 frequent하게\n",
        "    분포되어있는지를 확인하도록 돕는다.\n",
        "    여러 값이 독립적으로 존재할 때, 효율적으로 값들의 분포성질을 파악하기 위해 모든 값들을 나열하기보단,\n",
        "    값을 구간으로 나누어, 구간의 density를 확인하는 것이 성질을 파악하는 일에 효율적일 수 있다.\n",
        "    이를 위해, bin 값은, 연속형 값들의 구간을 설정하며, 결과적으로 이는 edge값이 되어, 값의 단계별 값의 frequency를 알게끔 돕는다.\n",
        "\n"
      ]
    },
    {
      "cell_type": "code",
      "metadata": {
        "colab": {
          "base_uri": "https://localhost:8080/"
        },
        "id": "U8mNGwCRADCt",
        "outputId": "e0d739f0-489f-4391-a9f8-84ad9ac47358"
      },
      "source": [
        "np.random.seed(0)\n",
        "x = np.random.rand(100)*100\n",
        "\n",
        "bins = np.arange(0,101, 10)\n",
        "n_array = np.histogram(x, bins=bins)\n",
        "hist = n_array[0]\n",
        "edges = n_array[1]\n",
        "\n",
        "# print(\"x\", x)\n",
        "print(\"bins : \", np.arange(0,101, 10))\n",
        "print(\"hist : \", n_array[0] )\n",
        "print(\"edges : \", n_array[1])"
      ],
      "execution_count": 26,
      "outputs": [
        {
          "output_type": "stream",
          "text": [
            "bins :  [  0  10  20  30  40  50  60  70  80  90 100]\n",
            "hist :  [12 13  9  7 10 11 15  8  6  9]\n",
            "edges :  [  0  10  20  30  40  50  60  70  80  90 100]\n"
          ],
          "name": "stdout"
        }
      ]
    },
    {
      "cell_type": "markdown",
      "metadata": {
        "id": "yxSsLM5Dq9s0"
      },
      "source": [
        "###### ***Bar chart를 통한 'Histogram' 구현***"
      ]
    },
    {
      "cell_type": "code",
      "metadata": {
        "colab": {
          "base_uri": "https://localhost:8080/",
          "height": 157
        },
        "id": "4PovWMJD_Cq3",
        "outputId": "acb997ee-978d-4716-bd9c-59d08c365fb9"
      },
      "source": [
        "plt.figure(figsize=(6, 2))\n",
        "plt.bar(edges[:-1], \n",
        "        hist, \n",
        "        align=\"edge\", \n",
        "        ec=\"k\", \n",
        "        width=np.diff(edges), \n",
        "        alpha=0.5)\n",
        "plt.show();"
      ],
      "execution_count": 64,
      "outputs": [
        {
          "output_type": "display_data",
          "data": {
            "image/png": "[encoded data removed]",
            "text/plain": [
              "<Figure size 432x144 with 1 Axes>"
            ]
          },
          "metadata": {
            "tags": [],
            "needs_background": "light"
          }
        }
      ]
    },
    {
      "cell_type": "markdown",
      "metadata": {
        "id": "JWE9Nbp7rJl0"
      },
      "source": [
        "###### ***시각화 도구 Matplotlib를 통한 'Histogram' 구현***"
      ]
    },
    {
      "cell_type": "code",
      "metadata": {
        "colab": {
          "base_uri": "https://localhost:8080/",
          "height": 157
        },
        "id": "q6Mz_paQk7bn",
        "outputId": "59dd88fa-2da3-426e-cd22-b01d4dd9e697"
      },
      "source": [
        "plt.figure(figsize=(6, 2))\n",
        "plt.hist(x, bins=np.arange(0,101,10), ec=\"k\", alpha=0.5)\n",
        "plt.show()"
      ],
      "execution_count": 65,
      "outputs": [
        {
          "output_type": "display_data",
          "data": {
            "image/png": "[encoded data removed]",
            "text/plain": [
              "<Figure size 432x144 with 1 Axes>"
            ]
          },
          "metadata": {
            "tags": [],
            "needs_background": "light"
          }
        }
      ]
    },
    {
      "cell_type": "markdown",
      "metadata": {
        "id": "Etc_E-XAtftE"
      },
      "source": [
        "    - Seaborn의 distplot은 기본적으로 동일하나, ked(kernel density estimate)를 통해, 일련의 '추이곡선'으로 '히스토그램'을 감쌀 수 있다."
      ]
    },
    {
      "cell_type": "code",
      "metadata": {
        "colab": {
          "base_uri": "https://localhost:8080/",
          "height": 157
        },
        "id": "ecrg6DtktaaN",
        "outputId": "022e88ac-4bd4-46bb-e273-7fdd67a5a7ff"
      },
      "source": [
        "plt.figure(figsize=(6, 2))\n",
        "sns.distplot(x, bins=np.arange(0,101,10), kde=True, hist_kws=dict(ec=\"k\"))\n",
        "plt.show(sns)"
      ],
      "execution_count": 66,
      "outputs": [
        {
          "output_type": "display_data",
          "data": {
            "image/png": "[encoded data removed]",
            "text/plain": [
              "<Figure size 432x144 with 1 Axes>"
            ]
          },
          "metadata": {
            "tags": [],
            "needs_background": "light"
          }
        }
      ]
    },
    {
      "cell_type": "markdown",
      "metadata": {
        "id": "I_5VNzaijsfU"
      },
      "source": [
        "##### ***Discrete variable***"
      ]
    },
    {
      "cell_type": "code",
      "metadata": {
        "colab": {
          "base_uri": "https://localhost:8080/",
          "height": 157
        },
        "id": "JQSgYtE6iflL",
        "outputId": "5ad01410-0e42-4445-e71a-718ce21ac289"
      },
      "source": [
        "x1 = np.random.randint(1,11,100)\n",
        "\n",
        "hist, edges = np.histogram(x1, bins=np.arange(1,12)-0.5)\n",
        "\n",
        "plt.figure(figsize=(6, 2))\n",
        "plt.bar(edges[:-1], hist, align=\"edge\", ec=\"k\", width=np.diff(edges), alpha=0.5)\n",
        "plt.xticks(np.arange(1,11))\n",
        "plt.show()"
      ],
      "execution_count": 67,
      "outputs": [
        {
          "output_type": "display_data",
          "data": {
            "image/png": "[encoded data removed]",
            "text/plain": [
              "<Figure size 432x144 with 1 Axes>"
            ]
          },
          "metadata": {
            "tags": [],
            "needs_background": "light"
          }
        }
      ]
    },
    {
      "cell_type": "code",
      "metadata": {
        "colab": {
          "base_uri": "https://localhost:8080/",
          "height": 157
        },
        "id": "ucVycuixtR82",
        "outputId": "60694fee-52e8-48c2-8608-d6745c6d7bbe"
      },
      "source": [
        "u, counts = np.unique(x1, return_counts=True)\n",
        "\n",
        "plt.figure(figsize=(6, 2))\n",
        "plt.bar(u, counts, align=\"center\", ec=\"k\", width=1, alpha=0.5)\n",
        "plt.xticks(u)\n",
        "plt.show()"
      ],
      "execution_count": 49,
      "outputs": [
        {
          "output_type": "display_data",
          "data": {
            "image/png": "[encoded data removed]",
            "text/plain": [
              "<Figure size 432x144 with 1 Axes>"
            ]
          },
          "metadata": {
            "tags": [],
            "needs_background": "light"
          }
        }
      ]
    },
    {
      "cell_type": "code",
      "metadata": {
        "id": "oJ9Htw9j7fZe",
        "colab": {
          "base_uri": "https://localhost:8080/",
          "height": 281
        },
        "outputId": "a24c1617-bba5-41bd-9b27-58e7c84c6a74"
      },
      "source": [
        "x2 = np.random.choice([1,2,3,4,6,7,8,9,10], size=100)\n",
        "\n",
        "plt.subplot(1,2,1)\n",
        "plt.title(\"histogram\")\n",
        "hist, edges = np.histogram(x2, bins=np.arange(1,12)-0.5)\n",
        "plt.bar(edges[:-1], hist, align=\"edge\", ec=\"k\", width=np.diff(edges), alpha=0.5)\n",
        "plt.xticks(np.arange(1,11))\n",
        "\n",
        "plt.subplot(1,2,2)\n",
        "plt.title(\"counts\")\n",
        "u, counts = np.unique(x2, return_counts=True)\n",
        "plt.bar(u.astype(str), counts, align=\"center\", ec=\"k\", width=1, alpha=0.5)\n",
        "\n",
        "plt.show()"
      ],
      "execution_count": 51,
      "outputs": [
        {
          "output_type": "display_data",
          "data": {
            "image/png": "[encoded data removed]",
            "text/plain": [
              "<Figure size 432x288 with 2 Axes>"
            ]
          },
          "metadata": {
            "tags": [],
            "needs_background": "light"
          }
        }
      ]
    },
    {
      "cell_type": "code",
      "metadata": {
        "colab": {
          "base_uri": "https://localhost:8080/",
          "height": 283
        },
        "id": "5JtcWhltuqi-",
        "outputId": "5165a6f2-58da-441b-d638-b12c0aaf25c6"
      },
      "source": [
        "sns.countplot(x2, color=\"C0\", alpha=0.5)"
      ],
      "execution_count": 56,
      "outputs": [
        {
          "output_type": "execute_result",
          "data": {
            "text/plain": [
              "<matplotlib.axes._subplots.AxesSubplot at 0x7fd80f2cc290>"
            ]
          },
          "metadata": {
            "tags": []
          },
          "execution_count": 56
        },
        {
          "output_type": "display_data",
          "data": {
            "image/png": "[encoded data removed]",
            "text/plain": [
              "<Figure size 432x288 with 1 Axes>"
            ]
          },
          "metadata": {
            "tags": [],
            "needs_background": "light"
          }
        }
      ]
    }
  ]
}