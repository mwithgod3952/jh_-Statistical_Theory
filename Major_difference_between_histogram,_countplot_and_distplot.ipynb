{
  "nbformat": 4,
  "nbformat_minor": 0,
  "metadata": {
    "colab": {
      "name": "Major difference between histogram, countplot and distplot",
      "provenance": [],
      "collapsed_sections": [],
      "toc_visible": true,
      "authorship_tag": "ABX9TyMhotL4kGR0XvpG2sVXcYvO",
      "include_colab_link": true
    },
    "kernelspec": {
      "name": "python3",
      "display_name": "Python 3"
    },
    "language_info": {
      "name": "python"
    }
  },
  "cells": [
    {
      "cell_type": "markdown",
      "metadata": {
        "id": "view-in-github",
        "colab_type": "text"
      },
      "source": [
        "<a href=\"https://colab.research.google.com/github/mwithgod3952/jh_-Statistical_Theory/blob/master/Major_difference_between_histogram%2C_countplot_and_distplot.ipynb\" target=\"_parent\"><img src=\"https://colab.research.google.com/assets/colab-badge.svg\" alt=\"Open In Colab\"/></a>"
      ]
    },
    {
      "cell_type": "markdown",
      "metadata": {
        "id": "uyKfFn8O5hYa"
      },
      "source": [
        "#### ***Study _ 변수(Variable) 성질에 따른 시각화 방안 적합도***"
      ]
    },
    {
      "cell_type": "code",
      "metadata": {
        "id": "QZkmQbA45g4L"
      },
      "source": [
        "import numpy as np\n",
        "import matplotlib.pyplot as plt\n",
        "import seaborn as sns\n",
        "import warnings\n",
        "warnings.filterwarnings(\"ignore\")"
      ],
      "execution_count": 41,
      "outputs": []
    },
    {
      "cell_type": "markdown",
      "metadata": {
        "id": "rR_c1H8Bqgtm"
      },
      "source": [
        "##### ***Continous variable***"
      ]
    },
    {
      "cell_type": "markdown",
      "metadata": {
        "id": "Ix5trRBDjkEz"
      },
      "source": [
        "    - 연속형 확률변수의 경우 Histogram은 각 값들이 얼마나 frequent하게\n",
        "    분포되어있는지를 확인하도록 돕는다.\n",
        "    여러 값이 독립적으로 존재할 때, 효율적으로 값들의 분포성질을 파악하기 위해 모든 값들을 나열하기보단,\n",
        "    값을 구간으로 나누어, 구간의 density를 확인하는 것이 성질을 파악하는 일에 효율적일 수 있다.\n",
        "    이를 위해, bin 값은, 연속형 값들의 구간을 설정하며, 결과적으로 이는 edge값이 되어, 값의 단계별 값의 frequency를 알게끔 돕는다.\n",
        "\n"
      ]
    },
    {
      "cell_type": "code",
      "metadata": {
        "colab": {
          "base_uri": "https://localhost:8080/"
        },
        "id": "U8mNGwCRADCt",
        "outputId": "e0d739f0-489f-4391-a9f8-84ad9ac47358"
      },
      "source": [
        "np.random.seed(0)\n",
        "x = np.random.rand(100)*100\n",
        "\n",
        "bins = np.arange(0,101, 10)\n",
        "n_array = np.histogram(x, bins=bins)\n",
        "hist = n_array[0]\n",
        "edges = n_array[1]\n",
        "\n",
        "# print(\"x\", x)\n",
        "print(\"bins : \", np.arange(0,101, 10))\n",
        "print(\"hist : \", n_array[0] )\n",
        "print(\"edges : \", n_array[1])"
      ],
      "execution_count": 26,
      "outputs": [
        {
          "output_type": "stream",
          "text": [
            "bins :  [  0  10  20  30  40  50  60  70  80  90 100]\n",
            "hist :  [12 13  9  7 10 11 15  8  6  9]\n",
            "edges :  [  0  10  20  30  40  50  60  70  80  90 100]\n"
          ],
          "name": "stdout"
        }
      ]
    },
    {
      "cell_type": "markdown",
      "metadata": {
        "id": "yxSsLM5Dq9s0"
      },
      "source": [
        "###### ***Bar chart를 통한 'Histogram' 구현***"
      ]
    },
    {
      "cell_type": "code",
      "metadata": {
        "colab": {
          "base_uri": "https://localhost:8080/",
          "height": 157
        },
        "id": "4PovWMJD_Cq3",
        "outputId": "acb997ee-978d-4716-bd9c-59d08c365fb9"
      },
      "source": [
        "plt.figure(figsize=(6, 2))\n",
        "plt.bar(edges[:-1], \n",
        "        hist, \n",
        "        align=\"edge\", \n",
        "        ec=\"k\", \n",
        "        width=np.diff(edges), \n",
        "        alpha=0.5)\n",
        "plt.show();"
      ],
      "execution_count": 64,
      "outputs": [
        {
          "output_type": "display_data",
          "data": {
            "image/png": "[encoded data removed]",
            "text/plain": [
              "<Figure size 432x144 with 1 Axes>"
            ]
          },
          "metadata": {
            "tags": [],
            "needs_background": "light"
          }
        }
      ]
    },
    {
      "cell_type": "markdown",
      "metadata": {
        "id": "JWE9Nbp7rJl0"
      },
      "source": [
        "***시각화 도구 Matplotlib를 통한 'Histogram' 구현***"
      ]
    },
    {
      "cell_type": "code",
      "metadata": {
        "colab": {
          "base_uri": "https://localhost:8080/",
          "height": 157
        },
        "id": "q6Mz_paQk7bn",
        "outputId": "59dd88fa-2da3-426e-cd22-b01d4dd9e697"
      },
      "source": [
        "plt.figure(figsize=(6, 2))\n",
        "plt.hist(x, bins=np.arange(0,101,10), ec=\"k\", alpha=0.5)\n",
        "plt.show()"
      ],
      "execution_count": 65,
      "outputs": [
        {
          "output_type": "display_data",
          "data": {
            "image/png": "[encoded data removed]",
            "text/plain": [
              "<Figure size 432x144 with 1 Axes>"
            ]
          },
          "metadata": {
            "tags": [],
            "needs_background": "light"
          }
        }
      ]
    },
    {
      "cell_type": "markdown",
      "metadata": {
        "id": "Etc_E-XAtftE"
      },
      "source": [
        "    - Seaborn의 distplot은 기본적으로 동일하나, ked(kernel density estimate)를 통해, 일련의 '추이곡선'으로 '히스토그램'을 감쌀 수 있다."
      ]
    },
    {
      "cell_type": "code",
      "metadata": {
        "colab": {
          "base_uri": "https://localhost:8080/",
          "height": 157
        },
        "id": "ecrg6DtktaaN",
        "outputId": "022e88ac-4bd4-46bb-e273-7fdd67a5a7ff"
      },
      "source": [
        "plt.figure(figsize=(6, 2))\n",
        "sns.distplot(x, bins=np.arange(0,101,10), kde=True, hist_kws=dict(ec=\"k\"))\n",
        "plt.show(sns)"
      ],
      "execution_count": 66,
      "outputs": [
        {
          "output_type": "display_data",
          "data": {
            "image/png": "[encoded data removed]",
            "text/plain": [
              "<Figure size 432x144 with 1 Axes>"
            ]
          },
          "metadata": {
            "tags": [],
            "needs_background": "light"
          }
        }
      ]
    },
    {
      "cell_type": "markdown",
      "metadata": {
        "id": "I_5VNzaijsfU"
      },
      "source": [
        "##### ***Discrete variable***"
      ]
    },
    {
      "cell_type": "markdown",
      "metadata": {
        "id": "zt3vEBcxEPHk"
      },
      "source": [
        "    - 이산변수에 대하여 'Histogram'은 적합하지 못하다.\n",
        "    만약, 이산변수에 대하여 'Histogram'을 계산한다면, bin값의 경우 관측값 간의 사이값이 될 것이다."
      ]
    },
    {
      "cell_type": "code",
      "metadata": {
        "colab": {
          "base_uri": "https://localhost:8080/",
          "height": 157
        },
        "id": "JQSgYtE6iflL",
        "outputId": "e29a54d7-21e6-42cf-a07e-f6c553118608"
      },
      "source": [
        "np.random.seed(1)\n",
        "x1 = np.random.randint(1,11,100)\n",
        "hist, edges = np.histogram(x1, bins=np.arange(1,12)-0.5)\n",
        "\n",
        "plt.figure(figsize=(6, 2))\n",
        "plt.bar(edges[:-1], hist, align=\"edge\", ec=\"k\", width=np.diff(edges), alpha=0.5)\n",
        "plt.xticks(np.arange(1,11))\n",
        "plt.show()"
      ],
      "execution_count": 118,
      "outputs": [
        {
          "output_type": "display_data",
          "data": {
            "image/png": "[encoded data removed]",
            "text/plain": [
              "<Figure size 432x144 with 1 Axes>"
            ]
          },
          "metadata": {
            "tags": [],
            "needs_background": "light"
          }
        }
      ]
    },
    {
      "cell_type": "code",
      "metadata": {
        "colab": {
          "base_uri": "https://localhost:8080/",
          "height": 157
        },
        "id": "ucVycuixtR82",
        "outputId": "f7dd70ff-77e8-44cc-fffa-9216e4f1008e"
      },
      "source": [
        "u, counts = np.unique(x1, return_counts=True)\n",
        "\n",
        "plt.figure(figsize=(6, 2))\n",
        "plt.bar(u, counts, align=\"center\", ec=\"k\", width=1, alpha=0.5)\n",
        "plt.xticks(u)\n",
        "plt.show()"
      ],
      "execution_count": 119,
      "outputs": [
        {
          "output_type": "display_data",
          "data": {
            "image/png": "[encoded data removed]",
            "text/plain": [
              "<Figure size 432x144 with 1 Axes>"
            ]
          },
          "metadata": {
            "tags": [],
            "needs_background": "light"
          }
        }
      ]
    },
    {
      "cell_type": "markdown",
      "metadata": {
        "id": "Vxf4hTuxHs2T"
      },
      "source": [
        "    - 위는, '이산변수'에 대하여, 'Histogram'과 'Count plot'을 Bar chart로 시각화해 본 것이며 결과적으로, 위의 사례에서 두 결과는 완전하게 같다.\n",
        "\n",
        "    반면, 아래의 경우, 두 래프가 다른 결과를 보여주는 것을 확인할 수 있다.\n",
        "    'Histogram'과 'Count plot'의 가장 큰 차이는 bin의 차이라고 할 수 있다.\n",
        "    위에서 거론한 바와 같이, 'Histogram'이 Frequent를 표현하는 방식은 bin을 통하여, 일괄적으로 X axis를 동일구간으로 분할 및 edge를 생성하여 시각화하는 방식이기 때문에, 변수 안에 특정 값이 포함되지 않는다고 할지라도 특정, edge는 그대로 남아있다.\n",
        "\n",
        "    이런 이유로, 경우에 따라_ 이상변수의 경우 Histogram을 통한 분포 시각화는 적절하지 않을 수 있다. \n"
      ]
    },
    {
      "cell_type": "code",
      "metadata": {
        "id": "oJ9Htw9j7fZe",
        "colab": {
          "base_uri": "https://localhost:8080/",
          "height": 281
        },
        "outputId": "b0997a08-ab0f-4720-bfe2-5a35dfeb0501"
      },
      "source": [
        "x2 = np.random.choice([1,2,3,4,6,7,8,9,10], size=100)\n",
        "\n",
        "plt.subplot(1,2,1)\n",
        "plt.title(\"histogram\")\n",
        "hist, edges = np.histogram(x2, bins=np.arange(1,12)-0.5)\n",
        "plt.bar(edges[:-1], hist, align=\"edge\", ec=\"k\", width=np.diff(edges), alpha=0.5)\n",
        "plt.xticks(np.arange(1,11))\n",
        "\n",
        "plt.subplot(1,2,2)\n",
        "plt.title(\"counts\")\n",
        "u, counts = np.unique(x2, return_counts=True)\n",
        "plt.bar(u.astype(str), counts, align=\"center\", ec=\"k\", width=1, alpha=0.5)\n",
        "\n",
        "plt.show()"
      ],
      "execution_count": 120,
      "outputs": [
        {
          "output_type": "display_data",
          "data": {
            "image/png": "[encoded data removed]",
            "text/plain": [
              "<Figure size 432x288 with 2 Axes>"
            ]
          },
          "metadata": {
            "tags": [],
            "needs_background": "light"
          }
        }
      ]
    },
    {
      "cell_type": "code",
      "metadata": {
        "colab": {
          "base_uri": "https://localhost:8080/",
          "height": 283
        },
        "id": "5JtcWhltuqi-",
        "outputId": "47133264-c6e7-4bd3-dc46-0812f09d8e84"
      },
      "source": [
        "sns.countplot(x2, color=\"C0\", alpha=0.5)"
      ],
      "execution_count": 71,
      "outputs": [
        {
          "output_type": "execute_result",
          "data": {
            "text/plain": [
              "<matplotlib.axes._subplots.AxesSubplot at 0x7fd80f03d390>"
            ]
          },
          "metadata": {
            "tags": []
          },
          "execution_count": 71
        },
        {
          "output_type": "display_data",
          "data": {
            "image/png": "[encoded data removed]",
            "text/plain": [
              "<Figure size 432x288 with 1 Axes>"
            ]
          },
          "metadata": {
            "tags": [],
            "needs_background": "light"
          }
        }
      ]
    }
  ]
}