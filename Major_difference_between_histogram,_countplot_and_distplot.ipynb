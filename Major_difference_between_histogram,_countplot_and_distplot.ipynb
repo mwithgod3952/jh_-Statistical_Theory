{
  "nbformat": 4,
  "nbformat_minor": 0,
  "metadata": {
    "colab": {
      "name": "Major difference between histogram, countplot and distplot",
      "provenance": [],
      "collapsed_sections": [],
      "authorship_tag": "ABX9TyO/veyoLwfLDukIy41vpF5O",
      "include_colab_link": true
    },
    "kernelspec": {
      "name": "python3",
      "display_name": "Python 3"
    },
    "language_info": {
      "name": "python"
    }
  },
  "cells": [
    {
      "cell_type": "markdown",
      "metadata": {
        "id": "view-in-github",
        "colab_type": "text"
      },
      "source": [
        "<a href=\"https://colab.research.google.com/github/mwithgod3952/jh_-Statistical_Theory/blob/master/Major_difference_between_histogram%2C_countplot_and_distplot.ipynb\" target=\"_parent\"><img src=\"https://colab.research.google.com/assets/colab-badge.svg\" alt=\"Open In Colab\"/></a>"
      ]
    },
    {
      "cell_type": "markdown",
      "metadata": {
        "id": "uyKfFn8O5hYa"
      },
      "source": [
        "##### ***변수(Variable) 성질에 따른 시각화 방안 적합도***"
      ]
    },
    {
      "cell_type": "markdown",
      "metadata": {
        "id": "-dv589Sn3m6t"
      },
      "source": [
        "    - 연속형 확률변수의 경우 Histogram이 요구되는 이유로는, frequency distribution을 보기 위함에 그 이유가 있다."
      ]
    },
    {
      "cell_type": "code",
      "metadata": {
        "id": "QZkmQbA45g4L"
      },
      "source": [
        "import numpy as np\n",
        "import matplotlib.pyplot as plt"
      ],
      "execution_count": 1,
      "outputs": []
    },
    {
      "cell_type": "code",
      "metadata": {
        "colab": {
          "base_uri": "https://localhost:8080/"
        },
        "id": "U8mNGwCRADCt",
        "outputId": "b26a8a2a-9cb2-4a01-fa15-fca1b55ea7c6"
      },
      "source": [
        "x = np.random.rand(100)*100\n",
        "bins = np.arange(0,101, 10)\n",
        "n_array = np.histogram(x, bins=bins)\n",
        "hist = n_array[0]\n",
        "edges = n_array[1]\n",
        "\n",
        "print(\"bins : \", np.arange(0,101, 10))\n",
        "print(\"hist : \", n_array[0] )\n",
        "print(\"edges : \", n_array[1])"
      ],
      "execution_count": null,
      "outputs": [
        {
          "output_type": "stream",
          "text": [
            "bins :  [  0  10  20  30  40  50  60  70  80  90 100]\n",
            "hist :  [ 9 13  7 13  9 11  4 10 13 11]\n",
            "edges :  [  0  10  20  30  40  50  60  70  80  90 100]\n"
          ],
          "name": "stdout"
        }
      ]
    },
    {
      "cell_type": "code",
      "metadata": {
        "colab": {
          "base_uri": "https://localhost:8080/",
          "height": 156
        },
        "id": "4PovWMJD_Cq3",
        "outputId": "2832da6b-e722-41e3-f945-b9d1d286f927"
      },
      "source": [
        "plt.figure(figsize=(6,2))\n",
        "plt.bar(edges[:-1], \n",
        "        hist, \n",
        "        align=\"edge\", \n",
        "        ec=\"k\", \n",
        "        width=np.diff(edges), \n",
        "        alpha=0.5)\n",
        "plt.show();"
      ],
      "execution_count": null,
      "outputs": [
        {
          "output_type": "display_data",
          "data": {
            "image/png": "[encoded data removed]",
            "text/plain": [
              "<Figure size 432x144 with 1 Axes>"
            ]
          },
          "metadata": {
            "tags": [],
            "needs_background": "light"
          }
        }
      ]
    },
    {
      "cell_type": "code",
      "metadata": {
        "colab": {
          "base_uri": "https://localhost:8080/",
          "height": 157
        },
        "id": "JQSgYtE6iflL",
        "outputId": "062f475a-5043-4527-88f5-9a3101f8509a"
      },
      "source": [
        "x1 = np.random.randint(1,11,100)\n",
        "\n",
        "hist, edges = np.histogram(x1, bins=np.arange(1,12)-0.5)\n",
        "\n",
        "plt.figure(figsize=(6, 2))\n",
        "plt.bar(edges[:-1], hist, align=\"edge\", ec=\"k\", width=np.diff(edges), alpha=0.5)\n",
        "plt.xticks(np.arange(1,11))\n",
        "plt.show()"
      ],
      "execution_count": 6,
      "outputs": [
        {
          "output_type": "display_data",
          "data": {
            "image/png": "[encoded data removed]",
            "text/plain": [
              "<Figure size 432x144 with 1 Axes>"
            ]
          },
          "metadata": {
            "tags": [],
            "needs_background": "light"
          }
        }
      ]
    },
    {
      "cell_type": "code",
      "metadata": {
        "colab": {
          "base_uri": "https://localhost:8080/"
        },
        "id": "oJ9Htw9j7fZe",
        "outputId": "aec4e522-9b62-4e14-fa70-2192d468f7d5"
      },
      "source": [
        ""
      ],
      "execution_count": null,
      "outputs": [
        {
          "output_type": "execute_result",
          "data": {
            "text/plain": [
              "array([ 0, 10, 20, 30, 40, 50, 60, 70, 80, 90])"
            ]
          },
          "metadata": {
            "tags": []
          },
          "execution_count": 46
        }
      ]
    }
  ]
}