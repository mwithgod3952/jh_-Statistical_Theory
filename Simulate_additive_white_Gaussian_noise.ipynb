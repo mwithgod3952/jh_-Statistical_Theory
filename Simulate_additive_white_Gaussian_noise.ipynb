{
 "cells": [
  {
   "cell_type": "code",
   "execution_count": 4,
   "id": "a92df568-dc82-421c-b5be-a5b71ae566fd",
   "metadata": {},
   "outputs": [],
   "source": [
    "from numpy import sum,isrealobj,sqrt\n",
    "from numpy.random import standard_normal\n",
    "\n",
    "def awgn(s,SNRdB,L=1):\n",
    "    gamma = 10**(SNRdB/10) #SNR to linear scale\n",
    "    if s.ndim==1:\n",
    "        P=L*sum(abs(s)**2)/len(s) \n",
    "    else: \n",
    "        P=L*sum(sum(abs(s)**2))/len(s) \n",
    "    N0=P/gamma \n",
    "    if isrealobj(s):\n",
    "        n = sqrt(N0/2)*standard_normal(s.shape) \n",
    "    else:\n",
    "        n = sqrt(N0/2)*(standard_normal(s.shape)+1j*standard_normal(s.shape))\n",
    "    r = s + n # received signal\n",
    "    return r"
   ]
  }
 ],
 "metadata": {
  "kernelspec": {
   "display_name": "Python 3",
   "language": "python",
   "name": "python3"
  },
  "language_info": {
   "codemirror_mode": {
    "name": "ipython",
    "version": 3
   },
   "file_extension": ".py",
   "mimetype": "text/x-python",
   "name": "python",
   "nbconvert_exporter": "python",
   "pygments_lexer": "ipython3",
   "version": "3.7.10"
  }
 },
 "nbformat": 4,
 "nbformat_minor": 5
}
